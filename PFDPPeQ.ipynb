{
 "cells": [
  {
   "cell_type": "markdown",
   "id": "50b9d489",
   "metadata": {
    "toc": true
   },
   "source": [
    "<h1>Table of Contents<span class=\"tocSkip\"></span></h1>\n",
    "<div class=\"toc\"><ul class=\"toc-item\"><li><span><a href=\"#PFDPPeQ\" data-toc-modified-id=\"PFDPPeQ-1\"><span class=\"toc-item-num\">1&nbsp;&nbsp;</span>PFDPPeQ</a></span><ul class=\"toc-item\"><li><span><a href=\"#import_package\" data-toc-modified-id=\"import_package-1.1\"><span class=\"toc-item-num\">1.1&nbsp;&nbsp;</span>import_package</a></span></li><li><span><a href=\"#set_dir\" data-toc-modified-id=\"set_dir-1.2\"><span class=\"toc-item-num\">1.2&nbsp;&nbsp;</span>set_dir</a></span></li><li><span><a href=\"#read_data\" data-toc-modified-id=\"read_data-1.3\"><span class=\"toc-item-num\">1.3&nbsp;&nbsp;</span>read_data</a></span></li></ul></li><li><span><a href=\"#PFDPPeQ_load\" data-toc-modified-id=\"PFDPPeQ_load-2\"><span class=\"toc-item-num\">2&nbsp;&nbsp;</span>PFDPPeQ_load</a></span></li></ul></div>"
   ]
  },
  {
   "cell_type": "markdown",
   "id": "f3d75085",
   "metadata": {},
   "source": [
    "# PFDPPeQ"
   ]
  },
  {
   "cell_type": "markdown",
   "id": "ab85544a",
   "metadata": {},
   "source": [
    "## import_package"
   ]
  },
  {
   "cell_type": "code",
   "execution_count": 1,
   "id": "b5153aa7",
   "metadata": {
    "ExecuteTime": {
     "end_time": "2024-11-22T07:48:02.793914Z",
     "start_time": "2024-11-22T07:48:01.883302Z"
    },
    "scrolled": true
   },
   "outputs": [
    {
     "name": "stderr",
     "output_type": "stream",
     "text": [
      "/home/pccm_whp/.conda/envs/ml_whp/lib/python3.10/site-packages/xgboost/core.py:265: FutureWarning: Your system has an old version of glibc (< 2.28). We will stop supporting Linux distros with glibc older than 2.28 after **May 31, 2025**. Please upgrade to a recent Linux distro (with glibc 2.28+) to use future versions of XGBoost.\n",
      "Note: You have installed the 'manylinux2014' variant of XGBoost. Certain features such as GPU algorithms or federated learning are not available. To use these features, please upgrade to a recent Linux distro with glibc 2.28+, and install the 'manylinux_2_28' variant.\n",
      "  warnings.warn(\n"
     ]
    }
   ],
   "source": [
    "# -*- coding: utf-8 -*-\n",
    "import numpy as np\n",
    "import pandas as pd\n",
    "import matplotlib.pyplot as plt\n",
    "import seaborn as sns\n",
    "from matplotlib import font_manager as fm, rcParams\n",
    "import csv\n",
    "import joblib\n",
    "from joblib import load\n",
    "from lightgbm.sklearn import LGBMClassifier\n",
    "from sklearn.neural_network import MLPClassifier\n",
    "from sklearn.datasets import make_classification\n",
    "from xgboost.sklearn import XGBClassifier\n",
    "from collections import Counter\n",
    "from sklearn.preprocessing import StandardScaler\n",
    "from sklearn.model_selection import cross_val_score,cross_validate\n",
    "from sklearn.model_selection import GridSearchCV\n",
    "from sklearn.model_selection import train_test_split\n",
    "from sklearn.tree import DecisionTreeClassifier\n",
    "from sklearn.ensemble import RandomForestClassifier\n",
    "from sklearn.feature_selection import RFE, RFECV\n",
    "from sklearn.naive_bayes import GaussianNB\n",
    "from sklearn.neighbors import KNeighborsClassifier\n",
    "from sklearn.ensemble import GradientBoostingClassifier\n",
    "from sklearn.ensemble import AdaBoostClassifier\n",
    "from sklearn.svm import SVC\n",
    "from sklearn.svm import LinearSVC\n",
    "from sklearn.linear_model import Lasso,LassoCV\n",
    "from sklearn.linear_model import LogisticRegression\n",
    "from sklearn.ensemble import VotingClassifier\n",
    "from sklearn.metrics import confusion_matrix\n",
    "from sklearn.metrics import accuracy_score\n",
    "from sklearn.metrics import mean_squared_error\n",
    "from sklearn.metrics import mean_absolute_error\n",
    "from sklearn.metrics import f1_score\n",
    "from sklearn.metrics import classification_report\n",
    "from sklearn.metrics import matthews_corrcoef, roc_auc_score\n",
    "from sklearn.model_selection import StratifiedKFold, KFold\n",
    "from imblearn.over_sampling import KMeansSMOTE"
   ]
  },
  {
   "cell_type": "code",
   "execution_count": 2,
   "id": "1cc62be1",
   "metadata": {
    "ExecuteTime": {
     "end_time": "2024-11-22T07:48:04.409403Z",
     "start_time": "2024-11-22T07:48:04.403407Z"
    }
   },
   "outputs": [],
   "source": [
    "%matplotlib inline"
   ]
  },
  {
   "cell_type": "markdown",
   "id": "4766dd90",
   "metadata": {},
   "source": [
    "## set_dir"
   ]
  },
  {
   "cell_type": "code",
   "execution_count": 3,
   "id": "13e533ba",
   "metadata": {
    "ExecuteTime": {
     "end_time": "2024-11-22T07:48:06.396238Z",
     "start_time": "2024-11-22T07:48:06.393469Z"
    }
   },
   "outputs": [],
   "source": [
    "#pfdppeq_dir='/mnt/pfdppeq/'"
   ]
  },
  {
   "cell_type": "markdown",
   "id": "5dea33fd",
   "metadata": {},
   "source": [
    "## read_data"
   ]
  },
  {
   "cell_type": "code",
   "execution_count": 4,
   "id": "9893819d",
   "metadata": {
    "ExecuteTime": {
     "end_time": "2024-11-22T07:48:08.500806Z",
     "start_time": "2024-11-22T07:48:08.491111Z"
    },
    "scrolled": true
   },
   "outputs": [
    {
     "data": {
      "text/html": [
       "<div>\n",
       "<style scoped>\n",
       "    .dataframe tbody tr th:only-of-type {\n",
       "        vertical-align: middle;\n",
       "    }\n",
       "\n",
       "    .dataframe tbody tr th {\n",
       "        vertical-align: top;\n",
       "    }\n",
       "\n",
       "    .dataframe thead th {\n",
       "        text-align: right;\n",
       "    }\n",
       "</style>\n",
       "<table border=\"1\" class=\"dataframe\">\n",
       "  <thead>\n",
       "    <tr style=\"text-align: right;\">\n",
       "      <th></th>\n",
       "      <th>SCG5</th>\n",
       "      <th>ITGB4</th>\n",
       "      <th>GOLM1</th>\n",
       "      <th>TSHZ2</th>\n",
       "    </tr>\n",
       "  </thead>\n",
       "  <tbody>\n",
       "    <tr>\n",
       "      <th>0</th>\n",
       "      <td>1.258513</td>\n",
       "      <td>1.347629</td>\n",
       "      <td>1.175381</td>\n",
       "      <td>1.445054</td>\n",
       "    </tr>\n",
       "    <tr>\n",
       "      <th>1</th>\n",
       "      <td>1.636779</td>\n",
       "      <td>0.524082</td>\n",
       "      <td>0.823226</td>\n",
       "      <td>1.021775</td>\n",
       "    </tr>\n",
       "    <tr>\n",
       "      <th>2</th>\n",
       "      <td>-0.573491</td>\n",
       "      <td>0.007246</td>\n",
       "      <td>-0.277015</td>\n",
       "      <td>-0.643959</td>\n",
       "    </tr>\n",
       "    <tr>\n",
       "      <th>3</th>\n",
       "      <td>-0.968354</td>\n",
       "      <td>-1.509973</td>\n",
       "      <td>-0.655981</td>\n",
       "      <td>-0.110689</td>\n",
       "    </tr>\n",
       "    <tr>\n",
       "      <th>4</th>\n",
       "      <td>-0.293237</td>\n",
       "      <td>-1.178821</td>\n",
       "      <td>-0.899631</td>\n",
       "      <td>-1.885063</td>\n",
       "    </tr>\n",
       "    <tr>\n",
       "      <th>...</th>\n",
       "      <td>...</td>\n",
       "      <td>...</td>\n",
       "      <td>...</td>\n",
       "      <td>...</td>\n",
       "    </tr>\n",
       "    <tr>\n",
       "      <th>747</th>\n",
       "      <td>-0.852728</td>\n",
       "      <td>-0.670507</td>\n",
       "      <td>-0.678015</td>\n",
       "      <td>-0.810197</td>\n",
       "    </tr>\n",
       "    <tr>\n",
       "      <th>748</th>\n",
       "      <td>-0.697319</td>\n",
       "      <td>-0.885994</td>\n",
       "      <td>-0.555166</td>\n",
       "      <td>-0.762108</td>\n",
       "    </tr>\n",
       "    <tr>\n",
       "      <th>749</th>\n",
       "      <td>-0.713360</td>\n",
       "      <td>-0.616249</td>\n",
       "      <td>-0.729906</td>\n",
       "      <td>-1.185239</td>\n",
       "    </tr>\n",
       "    <tr>\n",
       "      <th>750</th>\n",
       "      <td>-0.904310</td>\n",
       "      <td>-0.746380</td>\n",
       "      <td>-0.755528</td>\n",
       "      <td>-0.812806</td>\n",
       "    </tr>\n",
       "    <tr>\n",
       "      <th>751</th>\n",
       "      <td>-0.702006</td>\n",
       "      <td>-0.941734</td>\n",
       "      <td>-0.917007</td>\n",
       "      <td>-1.246106</td>\n",
       "    </tr>\n",
       "  </tbody>\n",
       "</table>\n",
       "<p>752 rows × 4 columns</p>\n",
       "</div>"
      ],
      "text/plain": [
       "         SCG5     ITGB4     GOLM1     TSHZ2\n",
       "0    1.258513  1.347629  1.175381  1.445054\n",
       "1    1.636779  0.524082  0.823226  1.021775\n",
       "2   -0.573491  0.007246 -0.277015 -0.643959\n",
       "3   -0.968354 -1.509973 -0.655981 -0.110689\n",
       "4   -0.293237 -1.178821 -0.899631 -1.885063\n",
       "..        ...       ...       ...       ...\n",
       "747 -0.852728 -0.670507 -0.678015 -0.810197\n",
       "748 -0.697319 -0.885994 -0.555166 -0.762108\n",
       "749 -0.713360 -0.616249 -0.729906 -1.185239\n",
       "750 -0.904310 -0.746380 -0.755528 -0.812806\n",
       "751 -0.702006 -0.941734 -0.917007 -1.246106\n",
       "\n",
       "[752 rows x 4 columns]"
      ]
     },
     "execution_count": 4,
     "metadata": {},
     "output_type": "execute_result"
    }
   ],
   "source": [
    "x_train=pd.read_csv(pfdppeq_dir+'x_train.csv',header=0,index_col=0)\n",
    "x_train"
   ]
  },
  {
   "cell_type": "code",
   "execution_count": 5,
   "id": "780590e6",
   "metadata": {
    "ExecuteTime": {
     "end_time": "2024-11-22T07:48:10.882399Z",
     "start_time": "2024-11-22T07:48:10.877195Z"
    },
    "scrolled": true
   },
   "outputs": [
    {
     "data": {
      "text/html": [
       "<div>\n",
       "<style scoped>\n",
       "    .dataframe tbody tr th:only-of-type {\n",
       "        vertical-align: middle;\n",
       "    }\n",
       "\n",
       "    .dataframe tbody tr th {\n",
       "        vertical-align: top;\n",
       "    }\n",
       "\n",
       "    .dataframe thead th {\n",
       "        text-align: right;\n",
       "    }\n",
       "</style>\n",
       "<table border=\"1\" class=\"dataframe\">\n",
       "  <thead>\n",
       "    <tr style=\"text-align: right;\">\n",
       "      <th></th>\n",
       "      <th>diagnosis</th>\n",
       "    </tr>\n",
       "  </thead>\n",
       "  <tbody>\n",
       "    <tr>\n",
       "      <th>0</th>\n",
       "      <td>1</td>\n",
       "    </tr>\n",
       "    <tr>\n",
       "      <th>1</th>\n",
       "      <td>1</td>\n",
       "    </tr>\n",
       "    <tr>\n",
       "      <th>2</th>\n",
       "      <td>0</td>\n",
       "    </tr>\n",
       "    <tr>\n",
       "      <th>3</th>\n",
       "      <td>0</td>\n",
       "    </tr>\n",
       "    <tr>\n",
       "      <th>4</th>\n",
       "      <td>0</td>\n",
       "    </tr>\n",
       "    <tr>\n",
       "      <th>...</th>\n",
       "      <td>...</td>\n",
       "    </tr>\n",
       "    <tr>\n",
       "      <th>747</th>\n",
       "      <td>0</td>\n",
       "    </tr>\n",
       "    <tr>\n",
       "      <th>748</th>\n",
       "      <td>0</td>\n",
       "    </tr>\n",
       "    <tr>\n",
       "      <th>749</th>\n",
       "      <td>0</td>\n",
       "    </tr>\n",
       "    <tr>\n",
       "      <th>750</th>\n",
       "      <td>0</td>\n",
       "    </tr>\n",
       "    <tr>\n",
       "      <th>751</th>\n",
       "      <td>0</td>\n",
       "    </tr>\n",
       "  </tbody>\n",
       "</table>\n",
       "<p>752 rows × 1 columns</p>\n",
       "</div>"
      ],
      "text/plain": [
       "     diagnosis\n",
       "0            1\n",
       "1            1\n",
       "2            0\n",
       "3            0\n",
       "4            0\n",
       "..         ...\n",
       "747          0\n",
       "748          0\n",
       "749          0\n",
       "750          0\n",
       "751          0\n",
       "\n",
       "[752 rows x 1 columns]"
      ]
     },
     "execution_count": 5,
     "metadata": {},
     "output_type": "execute_result"
    }
   ],
   "source": [
    "y_train = pd.read_csv(pfdppeq_dir+'y_train.csv',header=0,index_col=0)#\n",
    "y_train"
   ]
  },
  {
   "cell_type": "code",
   "execution_count": 6,
   "id": "6d5e04fd",
   "metadata": {
    "ExecuteTime": {
     "end_time": "2024-11-22T07:48:15.095397Z",
     "start_time": "2024-11-22T07:48:15.088478Z"
    },
    "scrolled": true
   },
   "outputs": [
    {
     "data": {
      "text/html": [
       "<div>\n",
       "<style scoped>\n",
       "    .dataframe tbody tr th:only-of-type {\n",
       "        vertical-align: middle;\n",
       "    }\n",
       "\n",
       "    .dataframe tbody tr th {\n",
       "        vertical-align: top;\n",
       "    }\n",
       "\n",
       "    .dataframe thead th {\n",
       "        text-align: right;\n",
       "    }\n",
       "</style>\n",
       "<table border=\"1\" class=\"dataframe\">\n",
       "  <thead>\n",
       "    <tr style=\"text-align: right;\">\n",
       "      <th></th>\n",
       "      <th>SCG5</th>\n",
       "      <th>ITGB4</th>\n",
       "      <th>GOLM1</th>\n",
       "      <th>TSHZ2</th>\n",
       "    </tr>\n",
       "  </thead>\n",
       "  <tbody>\n",
       "    <tr>\n",
       "      <th>ipf_1084</th>\n",
       "      <td>0.662675</td>\n",
       "      <td>0.682519</td>\n",
       "      <td>0.812049</td>\n",
       "      <td>0.365838</td>\n",
       "    </tr>\n",
       "    <tr>\n",
       "      <th>ipf_1063</th>\n",
       "      <td>0.441574</td>\n",
       "      <td>2.025334</td>\n",
       "      <td>1.589814</td>\n",
       "      <td>0.349258</td>\n",
       "    </tr>\n",
       "    <tr>\n",
       "      <th>GSM2213996</th>\n",
       "      <td>0.600068</td>\n",
       "      <td>0.240025</td>\n",
       "      <td>-0.252397</td>\n",
       "      <td>0.999893</td>\n",
       "    </tr>\n",
       "    <tr>\n",
       "      <th>ALF032D</th>\n",
       "      <td>0.711232</td>\n",
       "      <td>0.778200</td>\n",
       "      <td>0.677983</td>\n",
       "      <td>0.620395</td>\n",
       "    </tr>\n",
       "    <tr>\n",
       "      <th>GSM2433109</th>\n",
       "      <td>1.151952</td>\n",
       "      <td>1.554126</td>\n",
       "      <td>1.650526</td>\n",
       "      <td>0.137719</td>\n",
       "    </tr>\n",
       "    <tr>\n",
       "      <th>...</th>\n",
       "      <td>...</td>\n",
       "      <td>...</td>\n",
       "      <td>...</td>\n",
       "      <td>...</td>\n",
       "    </tr>\n",
       "    <tr>\n",
       "      <th>ipf_341</th>\n",
       "      <td>0.683458</td>\n",
       "      <td>0.957736</td>\n",
       "      <td>0.300367</td>\n",
       "      <td>0.183500</td>\n",
       "    </tr>\n",
       "    <tr>\n",
       "      <th>SSc_5437</th>\n",
       "      <td>0.698963</td>\n",
       "      <td>0.699721</td>\n",
       "      <td>1.479213</td>\n",
       "      <td>1.343061</td>\n",
       "    </tr>\n",
       "    <tr>\n",
       "      <th>ipf_1168</th>\n",
       "      <td>0.720443</td>\n",
       "      <td>-0.206346</td>\n",
       "      <td>0.122057</td>\n",
       "      <td>1.548765</td>\n",
       "    </tr>\n",
       "    <tr>\n",
       "      <th>ALF018B</th>\n",
       "      <td>0.191090</td>\n",
       "      <td>-0.735712</td>\n",
       "      <td>-0.186556</td>\n",
       "      <td>0.667350</td>\n",
       "    </tr>\n",
       "    <tr>\n",
       "      <th>ipf_244</th>\n",
       "      <td>0.333509</td>\n",
       "      <td>1.457775</td>\n",
       "      <td>1.399157</td>\n",
       "      <td>-0.177499</td>\n",
       "    </tr>\n",
       "  </tbody>\n",
       "</table>\n",
       "<p>157 rows × 4 columns</p>\n",
       "</div>"
      ],
      "text/plain": [
       "                SCG5     ITGB4     GOLM1     TSHZ2\n",
       "ipf_1084    0.662675  0.682519  0.812049  0.365838\n",
       "ipf_1063    0.441574  2.025334  1.589814  0.349258\n",
       "GSM2213996  0.600068  0.240025 -0.252397  0.999893\n",
       "ALF032D     0.711232  0.778200  0.677983  0.620395\n",
       "GSM2433109  1.151952  1.554126  1.650526  0.137719\n",
       "...              ...       ...       ...       ...\n",
       "ipf_341     0.683458  0.957736  0.300367  0.183500\n",
       "SSc_5437    0.698963  0.699721  1.479213  1.343061\n",
       "ipf_1168    0.720443 -0.206346  0.122057  1.548765\n",
       "ALF018B     0.191090 -0.735712 -0.186556  0.667350\n",
       "ipf_244     0.333509  1.457775  1.399157 -0.177499\n",
       "\n",
       "[157 rows x 4 columns]"
      ]
     },
     "execution_count": 6,
     "metadata": {},
     "output_type": "execute_result"
    }
   ],
   "source": [
    "x_test=pd.read_csv(pfdppeq_dir+'x_test.csv',header=0,index_col=0)\n",
    "x_test"
   ]
  },
  {
   "cell_type": "code",
   "execution_count": 7,
   "id": "8287d3c4",
   "metadata": {
    "ExecuteTime": {
     "end_time": "2024-11-22T07:48:17.624167Z",
     "start_time": "2024-11-22T07:48:17.618897Z"
    },
    "scrolled": true
   },
   "outputs": [
    {
     "data": {
      "text/html": [
       "<div>\n",
       "<style scoped>\n",
       "    .dataframe tbody tr th:only-of-type {\n",
       "        vertical-align: middle;\n",
       "    }\n",
       "\n",
       "    .dataframe tbody tr th {\n",
       "        vertical-align: top;\n",
       "    }\n",
       "\n",
       "    .dataframe thead th {\n",
       "        text-align: right;\n",
       "    }\n",
       "</style>\n",
       "<table border=\"1\" class=\"dataframe\">\n",
       "  <thead>\n",
       "    <tr style=\"text-align: right;\">\n",
       "      <th></th>\n",
       "      <th>diagnosis</th>\n",
       "    </tr>\n",
       "    <tr>\n",
       "      <th>sample</th>\n",
       "      <th></th>\n",
       "    </tr>\n",
       "  </thead>\n",
       "  <tbody>\n",
       "    <tr>\n",
       "      <th>ipf_1084</th>\n",
       "      <td>1</td>\n",
       "    </tr>\n",
       "    <tr>\n",
       "      <th>ipf_1063</th>\n",
       "      <td>1</td>\n",
       "    </tr>\n",
       "    <tr>\n",
       "      <th>GSM2213996</th>\n",
       "      <td>1</td>\n",
       "    </tr>\n",
       "    <tr>\n",
       "      <th>ALF032D</th>\n",
       "      <td>1</td>\n",
       "    </tr>\n",
       "    <tr>\n",
       "      <th>GSM2433109</th>\n",
       "      <td>1</td>\n",
       "    </tr>\n",
       "    <tr>\n",
       "      <th>...</th>\n",
       "      <td>...</td>\n",
       "    </tr>\n",
       "    <tr>\n",
       "      <th>ipf_341</th>\n",
       "      <td>1</td>\n",
       "    </tr>\n",
       "    <tr>\n",
       "      <th>SSc_5437</th>\n",
       "      <td>1</td>\n",
       "    </tr>\n",
       "    <tr>\n",
       "      <th>ipf_1168</th>\n",
       "      <td>1</td>\n",
       "    </tr>\n",
       "    <tr>\n",
       "      <th>ALF018B</th>\n",
       "      <td>1</td>\n",
       "    </tr>\n",
       "    <tr>\n",
       "      <th>ipf_244</th>\n",
       "      <td>1</td>\n",
       "    </tr>\n",
       "  </tbody>\n",
       "</table>\n",
       "<p>157 rows × 1 columns</p>\n",
       "</div>"
      ],
      "text/plain": [
       "            diagnosis\n",
       "sample               \n",
       "ipf_1084            1\n",
       "ipf_1063            1\n",
       "GSM2213996          1\n",
       "ALF032D             1\n",
       "GSM2433109          1\n",
       "...               ...\n",
       "ipf_341             1\n",
       "SSc_5437            1\n",
       "ipf_1168            1\n",
       "ALF018B             1\n",
       "ipf_244             1\n",
       "\n",
       "[157 rows x 1 columns]"
      ]
     },
     "execution_count": 7,
     "metadata": {},
     "output_type": "execute_result"
    }
   ],
   "source": [
    "y_test=pd.read_csv(pfdppeq_dir+'y_test.csv',header=0,index_col=0)\n",
    "y_test"
   ]
  },
  {
   "cell_type": "markdown",
   "id": "2f63a755",
   "metadata": {},
   "source": [
    "# PFDPPeQ_load"
   ]
  },
  {
   "cell_type": "code",
   "execution_count": 8,
   "id": "34dba1f1",
   "metadata": {
    "ExecuteTime": {
     "end_time": "2024-11-22T07:48:23.967590Z",
     "start_time": "2024-11-22T07:48:23.948101Z"
    },
    "scrolled": true
   },
   "outputs": [
    {
     "name": "stdout",
     "output_type": "stream",
     "text": [
      "VotingClassifier(estimators=[('e_dtc', DecisionTreeClassifier(random_state=10)),\n",
      "                             ('e_xgb',\n",
      "                              XGBClassifier(base_score=None, booster=None,\n",
      "                                            callbacks=None,\n",
      "                                            colsample_bylevel=None,\n",
      "                                            colsample_bynode=None,\n",
      "                                            colsample_bytree=None, device=None,\n",
      "                                            early_stopping_rounds=None,\n",
      "                                            enable_categorical=False,\n",
      "                                            eval_metric=None,\n",
      "                                            feature_types=None, gamma=None,\n",
      "                                            grow_policy=None,\n",
      "                                            importanc...\n",
      "                                            interaction_constraints=None,\n",
      "                                            learning_rate=None, max_bin=None,\n",
      "                                            max_cat_threshold=None,\n",
      "                                            max_cat_to_onehot=None,\n",
      "                                            max_delta_step=None, max_depth=None,\n",
      "                                            max_leaves=None,\n",
      "                                            min_child_weight=None, missing=nan,\n",
      "                                            monotone_constraints=None,\n",
      "                                            multi_strategy=None,\n",
      "                                            n_estimators=None, n_job=-1,\n",
      "                                            n_jobs=None, num_parallel_tree=None, ...)),\n",
      "                             ('e_gbc',\n",
      "                              GradientBoostingClassifier(random_state=10))],\n",
      "                 voting='soft')\n"
     ]
    }
   ],
   "source": [
    "with open(pfdppeq_dir+'PFDPPeQ.joblib','rb') as file:\n",
    "    PFDPPeQ_model=joblib.load(file)\n",
    "print(PFDPPeQ_model)"
   ]
  },
  {
   "cell_type": "code",
   "execution_count": 9,
   "id": "d57ee639",
   "metadata": {
    "ExecuteTime": {
     "end_time": "2024-11-22T07:48:37.854399Z",
     "start_time": "2024-11-22T07:48:37.615168Z"
    },
    "scrolled": true
   },
   "outputs": [
    {
     "name": "stderr",
     "output_type": "stream",
     "text": [
      "/home/pccm_whp/.conda/envs/ml_whp/lib/python3.10/site-packages/sklearn/preprocessing/_label.py:97: DataConversionWarning: A column-vector y was passed when a 1d array was expected. Please change the shape of y to (n_samples, ), for example using ravel().\n",
      "  y = column_or_1d(y, warn=True)\n",
      "/home/pccm_whp/.conda/envs/ml_whp/lib/python3.10/site-packages/sklearn/preprocessing/_label.py:132: DataConversionWarning: A column-vector y was passed when a 1d array was expected. Please change the shape of y to (n_samples, ), for example using ravel().\n",
      "  y = column_or_1d(y, dtype=self.classes_.dtype, warn=True)\n",
      "/home/pccm_whp/.conda/envs/ml_whp/lib/python3.10/site-packages/xgboost/core.py:158: UserWarning: [15:48:37] WARNING: /workspace/src/learner.cc:740: \n",
      "Parameters: { \"n_job\" } are not used.\n",
      "\n",
      "  warnings.warn(smsg, UserWarning)\n"
     ]
    },
    {
     "name": "stdout",
     "output_type": "stream",
     "text": [
      "PFDPPeQ_accuracy:\n",
      "0.9426751592356688\n",
      "PFDPPeQ_mcc:\n",
      "0.8849603719260919\n",
      "PFDPPeQ_aucroc:\n",
      "0.9428408349641226\n"
     ]
    },
    {
     "data": {
      "text/html": [
       "<div>\n",
       "<style scoped>\n",
       "    .dataframe tbody tr th:only-of-type {\n",
       "        vertical-align: middle;\n",
       "    }\n",
       "\n",
       "    .dataframe tbody tr th {\n",
       "        vertical-align: top;\n",
       "    }\n",
       "\n",
       "    .dataframe thead th {\n",
       "        text-align: right;\n",
       "    }\n",
       "</style>\n",
       "<table border=\"1\" class=\"dataframe\">\n",
       "  <thead>\n",
       "    <tr style=\"text-align: right;\">\n",
       "      <th></th>\n",
       "      <th>Predictions</th>\n",
       "      <th>Sample</th>\n",
       "    </tr>\n",
       "  </thead>\n",
       "  <tbody>\n",
       "    <tr>\n",
       "      <th>0</th>\n",
       "      <td>PF</td>\n",
       "      <td>ipf_1084</td>\n",
       "    </tr>\n",
       "    <tr>\n",
       "      <th>1</th>\n",
       "      <td>PF</td>\n",
       "      <td>ipf_1063</td>\n",
       "    </tr>\n",
       "    <tr>\n",
       "      <th>2</th>\n",
       "      <td>PF</td>\n",
       "      <td>GSM2213996</td>\n",
       "    </tr>\n",
       "    <tr>\n",
       "      <th>3</th>\n",
       "      <td>PF</td>\n",
       "      <td>ALF032D</td>\n",
       "    </tr>\n",
       "    <tr>\n",
       "      <th>4</th>\n",
       "      <td>PF</td>\n",
       "      <td>GSM2433109</td>\n",
       "    </tr>\n",
       "    <tr>\n",
       "      <th>...</th>\n",
       "      <td>...</td>\n",
       "      <td>...</td>\n",
       "    </tr>\n",
       "    <tr>\n",
       "      <th>152</th>\n",
       "      <td>PF</td>\n",
       "      <td>ipf_341</td>\n",
       "    </tr>\n",
       "    <tr>\n",
       "      <th>153</th>\n",
       "      <td>PF</td>\n",
       "      <td>SSc_5437</td>\n",
       "    </tr>\n",
       "    <tr>\n",
       "      <th>154</th>\n",
       "      <td>PF</td>\n",
       "      <td>ipf_1168</td>\n",
       "    </tr>\n",
       "    <tr>\n",
       "      <th>155</th>\n",
       "      <td>PF</td>\n",
       "      <td>ALF018B</td>\n",
       "    </tr>\n",
       "    <tr>\n",
       "      <th>156</th>\n",
       "      <td>PF</td>\n",
       "      <td>ipf_244</td>\n",
       "    </tr>\n",
       "  </tbody>\n",
       "</table>\n",
       "<p>157 rows × 2 columns</p>\n",
       "</div>"
      ],
      "text/plain": [
       "    Predictions      Sample\n",
       "0            PF    ipf_1084\n",
       "1            PF    ipf_1063\n",
       "2            PF  GSM2213996\n",
       "3            PF     ALF032D\n",
       "4            PF  GSM2433109\n",
       "..          ...         ...\n",
       "152          PF     ipf_341\n",
       "153          PF    SSc_5437\n",
       "154          PF    ipf_1168\n",
       "155          PF     ALF018B\n",
       "156          PF     ipf_244\n",
       "\n",
       "[157 rows x 2 columns]"
      ]
     },
     "execution_count": 9,
     "metadata": {},
     "output_type": "execute_result"
    }
   ],
   "source": [
    "PFDPPeQ_fit = PFDPPeQ_model.fit(x_train,y_train)\n",
    "PFDPPeQ_predict = PFDPPeQ_fit.predict(x_test)\n",
    "PFDPPeQ_conf_mat = confusion_matrix(y_test,PFDPPeQ_predict)\n",
    "PFDPPeQ_accuracy = accuracy_score(y_test,PFDPPeQ_predict)\n",
    "print('PFDPPeQ_accuracy:')\n",
    "print(PFDPPeQ_accuracy)\n",
    "PFDPPeQ_mcc=matthews_corrcoef(y_test,PFDPPeQ_predict)\n",
    "print('PFDPPeQ_mcc:')\n",
    "print(PFDPPeQ_mcc)\n",
    "PFDPPeQ_aucroc=roc_auc_score(y_test,PFDPPeQ_predict)\n",
    "print('PFDPPeQ_aucroc:')\n",
    "print(PFDPPeQ_aucroc)\n",
    "PFDPPeQ_predictions = pd.DataFrame(PFDPPeQ_predict, columns=['Predictions'])\n",
    "PFDPPeQ_predictions['Predictions']=PFDPPeQ_predictions['Predictions'].map({0:'control',1:'PF'})\n",
    "PFDPPeQ_predictions['Sample']=x_test.index\n",
    "PFDPPeQ_predictions.to_csv(pfdppeq_dir+'PFDPPeQ_res.csv',index=False)\n",
    "PFDPPeQ_predictions"
   ]
  },
  {
   "cell_type": "code",
   "execution_count": null,
   "id": "e3961a74",
   "metadata": {},
   "outputs": [],
   "source": []
  }
 ],
 "metadata": {
  "kernelspec": {
   "display_name": "Python [conda env:.conda-ml_whp]",
   "language": "python",
   "name": "conda-env-.conda-ml_whp-py"
  },
  "language_info": {
   "codemirror_mode": {
    "name": "ipython",
    "version": 3
   },
   "file_extension": ".py",
   "mimetype": "text/x-python",
   "name": "python",
   "nbconvert_exporter": "python",
   "pygments_lexer": "ipython3",
   "version": "3.10.14"
  },
  "toc": {
   "base_numbering": 1,
   "nav_menu": {},
   "number_sections": true,
   "sideBar": true,
   "skip_h1_title": false,
   "title_cell": "Table of Contents",
   "title_sidebar": "Contents",
   "toc_cell": true,
   "toc_position": {
    "height": "calc(100% - 180px)",
    "left": "10px",
    "top": "150px",
    "width": "341.438px"
   },
   "toc_section_display": true,
   "toc_window_display": true
  },
  "varInspector": {
   "cols": {
    "lenName": 16,
    "lenType": 16,
    "lenVar": 40
   },
   "kernels_config": {
    "python": {
     "delete_cmd_postfix": "",
     "delete_cmd_prefix": "del ",
     "library": "var_list.py",
     "varRefreshCmd": "print(var_dic_list())"
    },
    "r": {
     "delete_cmd_postfix": ") ",
     "delete_cmd_prefix": "rm(",
     "library": "var_list.r",
     "varRefreshCmd": "cat(var_dic_list()) "
    }
   },
   "types_to_exclude": [
    "module",
    "function",
    "builtin_function_or_method",
    "instance",
    "_Feature"
   ],
   "window_display": false
  }
 },
 "nbformat": 4,
 "nbformat_minor": 5
}
